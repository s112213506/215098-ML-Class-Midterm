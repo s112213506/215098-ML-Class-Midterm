{
 "cells": [
  {
   "cell_type": "code",
   "execution_count": 15,
   "id": "88d67c13-1dca-451c-85d5-eb234183c342",
   "metadata": {},
   "outputs": [],
   "source": [
    "import numpy as np\n",
    "import pandas as pd\n",
    "import matplotlib.pyplot as plt\n",
    "import yfinance as yf\n",
    "from sklearn.preprocessing import MinMaxScaler\n",
    "from sklearn import metrics\n",
    "from tensorflow.keras.layers import Dense, Dropout, LSTM\n",
    "from tensorflow.keras.models import Sequential"
   ]
  },
  {
   "cell_type": "code",
   "execution_count": 16,
   "id": "f3bc102c-1442-4cae-9093-f77f2b7b7e0c",
   "metadata": {},
   "outputs": [
    {
     "name": "stderr",
     "output_type": "stream",
     "text": [
      "[*********************100%%**********************]  1 of 1 completed\n"
     ]
    }
   ],
   "source": [
    "start = '2010-01-01'\n",
    "end = '2023-12-31'\n",
    "stock = 'BRK-B'\n",
    "\n",
    "data = yf.download(stock, start, end)\n",
    "data.to_csv('brk-b.csv', index=True)"
   ]
  },
  {
   "cell_type": "code",
   "execution_count": 17,
   "id": "05619e9a-2e63-453b-a546-6538a9022f6e",
   "metadata": {},
   "outputs": [
    {
     "name": "stderr",
     "output_type": "stream",
     "text": [
      "C:\\Users\\LAB104\\AppData\\Local\\Temp\\ipykernel_1952\\4093306910.py:2: FutureWarning: DataFrame.fillna with 'method' is deprecated and will raise in a future version. Use obj.ffill() or obj.bfill() instead.\n",
      "  data.fillna( method ='pad', inplace = True)\n"
     ]
    },
    {
     "data": {
      "text/html": [
       "<div>\n",
       "<style scoped>\n",
       "    .dataframe tbody tr th:only-of-type {\n",
       "        vertical-align: middle;\n",
       "    }\n",
       "\n",
       "    .dataframe tbody tr th {\n",
       "        vertical-align: top;\n",
       "    }\n",
       "\n",
       "    .dataframe thead th {\n",
       "        text-align: right;\n",
       "    }\n",
       "</style>\n",
       "<table border=\"1\" class=\"dataframe\">\n",
       "  <thead>\n",
       "    <tr style=\"text-align: right;\">\n",
       "      <th></th>\n",
       "      <th>Open</th>\n",
       "      <th>High</th>\n",
       "      <th>Low</th>\n",
       "      <th>Close</th>\n",
       "      <th>Adj Close</th>\n",
       "      <th>Volume</th>\n",
       "    </tr>\n",
       "    <tr>\n",
       "      <th>Date</th>\n",
       "      <th></th>\n",
       "      <th></th>\n",
       "      <th></th>\n",
       "      <th></th>\n",
       "      <th></th>\n",
       "      <th></th>\n",
       "    </tr>\n",
       "  </thead>\n",
       "  <tbody>\n",
       "    <tr>\n",
       "      <th>2010-01-04</th>\n",
       "      <td>66.000000</td>\n",
       "      <td>66.500000</td>\n",
       "      <td>65.919998</td>\n",
       "      <td>66.220001</td>\n",
       "      <td>66.220001</td>\n",
       "      <td>1575000</td>\n",
       "    </tr>\n",
       "    <tr>\n",
       "      <th>2010-01-05</th>\n",
       "      <td>66.389999</td>\n",
       "      <td>66.589996</td>\n",
       "      <td>66.150002</td>\n",
       "      <td>66.540001</td>\n",
       "      <td>66.540001</td>\n",
       "      <td>1310000</td>\n",
       "    </tr>\n",
       "    <tr>\n",
       "      <th>2010-01-06</th>\n",
       "      <td>66.500000</td>\n",
       "      <td>66.500000</td>\n",
       "      <td>66.199997</td>\n",
       "      <td>66.199997</td>\n",
       "      <td>66.199997</td>\n",
       "      <td>1760000</td>\n",
       "    </tr>\n",
       "    <tr>\n",
       "      <th>2010-01-07</th>\n",
       "      <td>66.199997</td>\n",
       "      <td>66.510002</td>\n",
       "      <td>66.139999</td>\n",
       "      <td>66.459999</td>\n",
       "      <td>66.459999</td>\n",
       "      <td>1505000</td>\n",
       "    </tr>\n",
       "    <tr>\n",
       "      <th>2010-01-08</th>\n",
       "      <td>66.480003</td>\n",
       "      <td>66.480003</td>\n",
       "      <td>66.300003</td>\n",
       "      <td>66.440002</td>\n",
       "      <td>66.440002</td>\n",
       "      <td>1500000</td>\n",
       "    </tr>\n",
       "    <tr>\n",
       "      <th>...</th>\n",
       "      <td>...</td>\n",
       "      <td>...</td>\n",
       "      <td>...</td>\n",
       "      <td>...</td>\n",
       "      <td>...</td>\n",
       "      <td>...</td>\n",
       "    </tr>\n",
       "    <tr>\n",
       "      <th>2023-12-22</th>\n",
       "      <td>356.500000</td>\n",
       "      <td>358.260010</td>\n",
       "      <td>355.410004</td>\n",
       "      <td>356.470001</td>\n",
       "      <td>356.470001</td>\n",
       "      <td>2332200</td>\n",
       "    </tr>\n",
       "    <tr>\n",
       "      <th>2023-12-26</th>\n",
       "      <td>356.899994</td>\n",
       "      <td>357.769989</td>\n",
       "      <td>356.079987</td>\n",
       "      <td>356.829987</td>\n",
       "      <td>356.829987</td>\n",
       "      <td>1964400</td>\n",
       "    </tr>\n",
       "    <tr>\n",
       "      <th>2023-12-27</th>\n",
       "      <td>355.929993</td>\n",
       "      <td>357.079987</td>\n",
       "      <td>355.500000</td>\n",
       "      <td>356.950012</td>\n",
       "      <td>356.950012</td>\n",
       "      <td>2478500</td>\n",
       "    </tr>\n",
       "    <tr>\n",
       "      <th>2023-12-28</th>\n",
       "      <td>357.480011</td>\n",
       "      <td>358.679993</td>\n",
       "      <td>356.730011</td>\n",
       "      <td>357.570007</td>\n",
       "      <td>357.570007</td>\n",
       "      <td>2740600</td>\n",
       "    </tr>\n",
       "    <tr>\n",
       "      <th>2023-12-29</th>\n",
       "      <td>357.559998</td>\n",
       "      <td>357.859985</td>\n",
       "      <td>355.309998</td>\n",
       "      <td>356.660004</td>\n",
       "      <td>356.660004</td>\n",
       "      <td>3269400</td>\n",
       "    </tr>\n",
       "  </tbody>\n",
       "</table>\n",
       "<p>3522 rows × 6 columns</p>\n",
       "</div>"
      ],
      "text/plain": [
       "                  Open        High         Low       Close   Adj Close  \\\n",
       "Date                                                                     \n",
       "2010-01-04   66.000000   66.500000   65.919998   66.220001   66.220001   \n",
       "2010-01-05   66.389999   66.589996   66.150002   66.540001   66.540001   \n",
       "2010-01-06   66.500000   66.500000   66.199997   66.199997   66.199997   \n",
       "2010-01-07   66.199997   66.510002   66.139999   66.459999   66.459999   \n",
       "2010-01-08   66.480003   66.480003   66.300003   66.440002   66.440002   \n",
       "...                ...         ...         ...         ...         ...   \n",
       "2023-12-22  356.500000  358.260010  355.410004  356.470001  356.470001   \n",
       "2023-12-26  356.899994  357.769989  356.079987  356.829987  356.829987   \n",
       "2023-12-27  355.929993  357.079987  355.500000  356.950012  356.950012   \n",
       "2023-12-28  357.480011  358.679993  356.730011  357.570007  357.570007   \n",
       "2023-12-29  357.559998  357.859985  355.309998  356.660004  356.660004   \n",
       "\n",
       "             Volume  \n",
       "Date                 \n",
       "2010-01-04  1575000  \n",
       "2010-01-05  1310000  \n",
       "2010-01-06  1760000  \n",
       "2010-01-07  1505000  \n",
       "2010-01-08  1500000  \n",
       "...             ...  \n",
       "2023-12-22  2332200  \n",
       "2023-12-26  1964400  \n",
       "2023-12-27  2478500  \n",
       "2023-12-28  2740600  \n",
       "2023-12-29  3269400  \n",
       "\n",
       "[3522 rows x 6 columns]"
      ]
     },
     "execution_count": 17,
     "metadata": {},
     "output_type": "execute_result"
    }
   ],
   "source": [
    "# Pad NA values\n",
    "data.fillna( method ='pad', inplace = True)\n",
    "data"
   ]
  },
  {
   "cell_type": "code",
   "execution_count": 18,
   "id": "64246466-177b-46f9-b4eb-6ee5005bfd6b",
   "metadata": {},
   "outputs": [
    {
     "name": "stdout",
     "output_type": "stream",
     "text": [
      "Train:  2289\n",
      "Test:  1233\n"
     ]
    }
   ],
   "source": [
    "# Split train test data\n",
    "data_train = pd.DataFrame(data.Close[0: int(len(data)*0.65)])\n",
    "data_test = pd.DataFrame(data.Close[int(len(data)*0.65): len(data)])\n",
    "print('Train: ', data_train.shape[0])\n",
    "print('Test: ', data_test.shape[0])"
   ]
  },
  {
   "cell_type": "code",
   "execution_count": 19,
   "id": "d5144e93-eab7-479f-9fde-9bf8c5786dc6",
   "metadata": {},
   "outputs": [],
   "source": [
    "# Scale training data\n",
    "scaler = MinMaxScaler(feature_range=(0,1))\n",
    "data_train_scale = scaler.fit_transform(data_train)\n",
    "x = []\n",
    "y = []\n",
    "\n",
    "for i in range(100, data_train_scale.shape[0]):\n",
    "    x.append(data_train_scale[i-100:i])\n",
    "    y.append(data_train_scale[i,0])\n",
    "x, y = np.array(x), np.array(y)"
   ]
  },
  {
   "cell_type": "code",
   "execution_count": 20,
   "id": "14867cd4-c1ed-4cf9-b339-245bfaec0852",
   "metadata": {},
   "outputs": [
    {
     "name": "stdout",
     "output_type": "stream",
     "text": [
      "Model: \"sequential_1\"\n",
      "_________________________________________________________________\n",
      " Layer (type)                Output Shape              Param #   \n",
      "=================================================================\n",
      " lstm_3 (LSTM)               (None, 100, 50)           10400     \n",
      "                                                                 \n",
      " lstm_4 (LSTM)               (None, 100, 50)           20200     \n",
      "                                                                 \n",
      " lstm_5 (LSTM)               (None, 50)                20200     \n",
      "                                                                 \n",
      " dense_1 (Dense)             (None, 1)                 51        \n",
      "                                                                 \n",
      "=================================================================\n",
      "Total params: 50,851\n",
      "Trainable params: 50,851\n",
      "Non-trainable params: 0\n",
      "_________________________________________________________________\n"
     ]
    }
   ],
   "source": [
    "# Build model\n",
    "model = Sequential()\n",
    "model.add(LSTM(units = 50, activation = 'relu', return_sequences = True,\n",
    "               input_shape = ((x.shape[1], 1))))\n",
    "model.add(LSTM(units = 50, activation='relu', return_sequences = True))\n",
    "model.add(LSTM(units = 50, activation = 'relu', return_sequences = False))\n",
    "model.add(Dense(units = 1))\n",
    "model.summary()"
   ]
  },
  {
   "cell_type": "code",
   "execution_count": 21,
   "id": "c69edcc2-b11d-4702-8a6c-f6a6e677e79a",
   "metadata": {},
   "outputs": [
    {
     "name": "stdout",
     "output_type": "stream",
     "text": [
      "Epoch 1/10\n",
      "35/35 [==============================] - 7s 78ms/step - loss: 0.0655\n",
      "Epoch 2/10\n",
      "35/35 [==============================] - 3s 78ms/step - loss: 0.0032\n",
      "Epoch 3/10\n",
      "35/35 [==============================] - 3s 87ms/step - loss: 8.8751e-04\n",
      "Epoch 4/10\n",
      "35/35 [==============================] - 3s 81ms/step - loss: 7.2378e-04\n",
      "Epoch 5/10\n",
      "35/35 [==============================] - 3s 79ms/step - loss: 6.7448e-04\n",
      "Epoch 6/10\n",
      "35/35 [==============================] - 3s 82ms/step - loss: 6.6716e-04\n",
      "Epoch 7/10\n",
      "35/35 [==============================] - 3s 78ms/step - loss: 6.3663e-04\n",
      "Epoch 8/10\n",
      "35/35 [==============================] - 3s 86ms/step - loss: 6.4633e-04\n",
      "Epoch 9/10\n",
      "35/35 [==============================] - 3s 85ms/step - loss: 6.4541e-04\n",
      "Epoch 10/10\n",
      "35/35 [==============================] - 3s 83ms/step - loss: 6.0221e-04\n"
     ]
    },
    {
     "data": {
      "text/plain": [
       "<keras.callbacks.History at 0x150ab1a60b0>"
      ]
     },
     "execution_count": 21,
     "metadata": {},
     "output_type": "execute_result"
    }
   ],
   "source": [
    "model.compile(optimizer = 'adam', loss = 'mean_squared_error')\n",
    "model.fit(x, y, epochs = 10, batch_size = 64, verbose = 1)"
   ]
  },
  {
   "cell_type": "code",
   "execution_count": 35,
   "id": "89cf9dc7-4e14-4c80-82bc-d6dcac8c98a2",
   "metadata": {},
   "outputs": [
    {
     "data": {
      "text/html": [
       "<div>\n",
       "<style scoped>\n",
       "    .dataframe tbody tr th:only-of-type {\n",
       "        vertical-align: middle;\n",
       "    }\n",
       "\n",
       "    .dataframe tbody tr th {\n",
       "        vertical-align: top;\n",
       "    }\n",
       "\n",
       "    .dataframe thead th {\n",
       "        text-align: right;\n",
       "    }\n",
       "</style>\n",
       "<table border=\"1\" class=\"dataframe\">\n",
       "  <thead>\n",
       "    <tr style=\"text-align: right;\">\n",
       "      <th></th>\n",
       "      <th>Close</th>\n",
       "    </tr>\n",
       "  </thead>\n",
       "  <tbody>\n",
       "    <tr>\n",
       "      <th>0</th>\n",
       "      <td>214.889999</td>\n",
       "    </tr>\n",
       "    <tr>\n",
       "      <th>1</th>\n",
       "      <td>216.369995</td>\n",
       "    </tr>\n",
       "    <tr>\n",
       "      <th>2</th>\n",
       "      <td>216.289993</td>\n",
       "    </tr>\n",
       "    <tr>\n",
       "      <th>3</th>\n",
       "      <td>218.300003</td>\n",
       "    </tr>\n",
       "    <tr>\n",
       "      <th>4</th>\n",
       "      <td>220.949997</td>\n",
       "    </tr>\n",
       "    <tr>\n",
       "      <th>...</th>\n",
       "      <td>...</td>\n",
       "    </tr>\n",
       "    <tr>\n",
       "      <th>1428</th>\n",
       "      <td>356.470001</td>\n",
       "    </tr>\n",
       "    <tr>\n",
       "      <th>1429</th>\n",
       "      <td>356.829987</td>\n",
       "    </tr>\n",
       "    <tr>\n",
       "      <th>1430</th>\n",
       "      <td>356.950012</td>\n",
       "    </tr>\n",
       "    <tr>\n",
       "      <th>1431</th>\n",
       "      <td>357.570007</td>\n",
       "    </tr>\n",
       "    <tr>\n",
       "      <th>1432</th>\n",
       "      <td>356.660004</td>\n",
       "    </tr>\n",
       "  </tbody>\n",
       "</table>\n",
       "<p>1433 rows × 1 columns</p>\n",
       "</div>"
      ],
      "text/plain": [
       "           Close\n",
       "0     214.889999\n",
       "1     216.369995\n",
       "2     216.289993\n",
       "3     218.300003\n",
       "4     220.949997\n",
       "...          ...\n",
       "1428  356.470001\n",
       "1429  356.829987\n",
       "1430  356.950012\n",
       "1431  357.570007\n",
       "1432  356.660004\n",
       "\n",
       "[1433 rows x 1 columns]"
      ]
     },
     "execution_count": 35,
     "metadata": {},
     "output_type": "execute_result"
    }
   ],
   "source": [
    "# Data for first piece of testing data\n",
    "past_100_days = data_train.tail(100)\n",
    "data_test = pd.concat([past_100_days, data_test], ignore_index=True)\n",
    "data_test_scale  = scaler.fit_transform(data_test)\n",
    "data_test"
   ]
  },
  {
   "cell_type": "code",
   "execution_count": 36,
   "id": "536de9d0-2cc7-41dd-b500-affd3e3fec9d",
   "metadata": {},
   "outputs": [
    {
     "data": {
      "text/plain": [
       "(1333, 100, 1)"
      ]
     },
     "execution_count": 36,
     "metadata": {},
     "output_type": "execute_result"
    }
   ],
   "source": [
    "x = []\n",
    "y = []\n",
    "\n",
    "for i in range(100, data_test_scale.shape[0]):\n",
    "    x.append(data_test_scale[i-100:i])\n",
    "    y.append(data_test_scale[i,0])\n",
    "x, y = np.array(x), np.array(y)\n",
    "x.shape"
   ]
  },
  {
   "cell_type": "code",
   "execution_count": 37,
   "id": "4602f57f-8832-4bf6-a50e-bb5164ff7872",
   "metadata": {},
   "outputs": [
    {
     "name": "stdout",
     "output_type": "stream",
     "text": [
      "42/42 [==============================] - 1s 19ms/step\n",
      "(1333, 1)\n"
     ]
    }
   ],
   "source": [
    "y_predict = model.predict(x)\n",
    "print(y_predict.shape)"
   ]
  },
  {
   "cell_type": "code",
   "execution_count": 38,
   "id": "c7783d6f-0cb9-4a62-a170-2af2aa5cafb8",
   "metadata": {},
   "outputs": [
    {
     "name": "stdout",
     "output_type": "stream",
     "text": [
      "r2 score 0.9680260278893672\n"
     ]
    }
   ],
   "source": [
    "float_y = y.astype(float)\n",
    "float_y_predict = y_predict.astype(float)\n",
    "r2_score(y, y_predict)\n",
    "print('r2 score', r2_score(y, y_predict))"
   ]
  },
  {
   "cell_type": "code",
   "execution_count": 39,
   "id": "4d7d3606-08fe-42d4-ab08-305cc073be75",
   "metadata": {},
   "outputs": [
    {
     "name": "stdout",
     "output_type": "stream",
     "text": [
      "y_true陣列包含零值，位置在: [382]\n"
     ]
    }
   ],
   "source": [
    "# 假設y_true是一個NumPy陣列\n",
    "# 找到y_true陣列中等於零的元素的索引\n",
    "zero_indices = np.where(y == 0)[0]\n",
    "\n",
    "if len(zero_indices) > 0:\n",
    "    print(\"y_true陣列包含零值，位置在:\", zero_indices)\n",
    "else:\n",
    "    print(\"y_true陣列不包含零值\")\n"
   ]
  },
  {
   "cell_type": "code",
   "execution_count": 40,
   "id": "7124ebeb-6c60-42a4-82bb-13b787801903",
   "metadata": {},
   "outputs": [
    {
     "name": "stdout",
     "output_type": "stream",
     "text": [
      "0.002221004569980106\n",
      "0.0471275351570619\n",
      "0.03530242085884267\n",
      "inf\n",
      "65.77025124526894\n"
     ]
    },
    {
     "name": "stderr",
     "output_type": "stream",
     "text": [
      "C:\\Users\\LAB104\\AppData\\Local\\Temp\\ipykernel_1952\\2182350700.py:3: RuntimeWarning: divide by zero encountered in divide\n",
      "  return np.mean(np.abs((y_pred - y_true) / y_true)) * 100\n"
     ]
    }
   ],
   "source": [
    "# coding=utf-8\n",
    "def mape(y_true, y_pred):\n",
    "    return np.mean(np.abs((y_pred - y_true) / y_true)) * 100\n",
    "\n",
    "def smape(y_true, y_pred):\n",
    "    return 2.0 * np.mean(np.abs(y_pred - y_true) / (np.abs(y_pred) + np.abs(y_true))) * 100\n",
    "\n",
    "# MSE\n",
    "print(metrics.mean_squared_error(y, y_predict))\n",
    "# RMSE\n",
    "print(np.sqrt(metrics.mean_squared_error(y, y_predict)))\n",
    "# MAE\n",
    "print(metrics.mean_absolute_error(y, y_predict))\n",
    "# MAPE\n",
    "print(mape(y, y_predict))\n",
    "# SMAPE\n",
    "print(smape(y, y_predict))"
   ]
  },
  {
   "cell_type": "code",
   "execution_count": 41,
   "id": "8d25b3dc-3232-42e5-bd64-b00398a8c868",
   "metadata": {},
   "outputs": [],
   "source": [
    "y_reshaped = y.reshape(-1, 1)\n",
    "yi=scaler.inverse_transform(y_reshaped)\n",
    "y_predict=scaler.inverse_transform(y_predict)"
   ]
  },
  {
   "cell_type": "code",
   "execution_count": 96,
   "id": "6ab280be-9494-4ea1-baf2-45fc38130366",
   "metadata": {},
   "outputs": [
    {
     "data": {
      "image/png": "[encoded data removed]",
      "text/plain": [
       "<Figure size 1000x800 with 1 Axes>"
      ]
     },
     "metadata": {},
     "output_type": "display_data"
    }
   ],
   "source": [
    "test_period = pd.DataFrame(data[int(len(data)*0.65-100): len(data)])\n",
    "test_period['y_predict'] = y_predict\n",
    "plt.figure(figsize=(10, 8))\n",
    "plt.plot(data['Close'], 'g', label='Closing Price')\n",
    "plt.plot(test_period['y_predict'], 'r', label='Predicted Price')\n",
    "plt.xlabel('Time')\n",
    "plt.ylabel('Price')\n",
    "plt.legend()\n",
    "plt.show()"
   ]
  },
  {
   "cell_type": "code",
   "execution_count": null,
   "id": "2ce1a4c5-db49-4028-aa66-fb90039515ce",
   "metadata": {},
   "outputs": [],
   "source": []
  },
  {
   "cell_type": "code",
   "execution_count": null,
   "id": "4fcc9770-ed98-4d5c-a299-c146b0454cd7",
   "metadata": {},
   "outputs": [],
   "source": []
  }
 ],
 "metadata": {
  "kernelspec": {
   "display_name": "Python 3 (ipykernel)",
   "language": "python",
   "name": "python3"
  },
  "language_info": {
   "codemirror_mode": {
    "name": "ipython",
    "version": 3
   },
   "file_extension": ".py",
   "mimetype": "text/x-python",
   "name": "python",
   "nbconvert_exporter": "python",
   "pygments_lexer": "ipython3",
   "version": "3.10.13"
  }
 },
 "nbformat": 4,
 "nbformat_minor": 5
}
